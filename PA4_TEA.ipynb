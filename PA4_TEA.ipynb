{
 "cells": [
  {
   "cell_type": "markdown",
   "id": "a532eac3",
   "metadata": {},
   "source": [
    "## Programming Assignment 4: Working with Dictionaries\n",
    "### Tess Anderson\n",
    "#### Version 1\n",
    "##### CS-150 Fall 2022"
   ]
  },
  {
   "cell_type": "code",
   "execution_count": 34,
   "id": "e2108d70",
   "metadata": {},
   "outputs": [
    {
     "name": "stdout",
     "output_type": "stream",
     "text": [
      "Enter a word to translate from English to Spanish (enter 0 to stop): chair\n",
      "The Spanish word for chair is SILLA.\n",
      "Enter a word to translate from English to Spanish (enter 0 to stop): couch\n",
      "The Spanish word for COUCH is not in this dictionary.\n",
      "Enter a word to translate from English to Spanish (enter 0 to stop): 0\n"
     ]
    }
   ],
   "source": [
    "translator={'hello':'hola',\n",
    "           'happy':'feliz',\n",
    "           'red':'rojo',\n",
    "           'flower':'flor',\n",
    "           'dog':'perro',\n",
    "           'library':'biblioteca',\n",
    "           'book':'libro',\n",
    "           'eye':'ojo',\n",
    "           'dance':'bailar',\n",
    "           'read':'leer',\n",
    "           'church':'iglesia',\n",
    "           'school':'escuela',\n",
    "           'computer':'computadora',\n",
    "           'love':'amor',\n",
    "           'blue':'azul',\n",
    "           'friend':'amigo',\n",
    "           'food':'comida',\n",
    "           'car':'coche',\n",
    "           'chair':'silla',\n",
    "           'telephone':'telephono',}\n",
    "prompt=\"Enter a word to translate from English to Spanish (enter 0 to stop): \"\n",
    "active=True\n",
    "english_word=' '\n",
    "while active==True:\n",
    "    english_word=input(prompt)\n",
    "    if english_word=='0':\n",
    "        active=False\n",
    "    elif english_word in translator:\n",
    "        print(\"The Spanish word for\",english_word,\"is\",translator.get(english_word).upper()+'.')\n",
    "    else:\n",
    "        print(\"The Spanish word for\",english_word.upper(),\"is not in this dictionary.\")"
   ]
  },
  {
   "cell_type": "code",
   "execution_count": 70,
   "id": "202bf43d",
   "metadata": {},
   "outputs": [
    {
     "data": {
      "text/plain": [
       "{1: 26,\n",
       " 2: 27,\n",
       " 3: 24,\n",
       " 4: 23,\n",
       " 5: 22,\n",
       " 6: 22,\n",
       " 7: 23,\n",
       " 8: 24,\n",
       " 9: 27,\n",
       " 10: 26,\n",
       " 11: 23,\n",
       " 12: 22,\n",
       " 13: 21,\n",
       " 14: 22,\n",
       " 15: 21,\n",
       " 16: 23,\n",
       " 17: 18,\n",
       " 18: 20,\n",
       " 19: 18,\n",
       " 20: 18,\n",
       " 21: 16,\n",
       " 22: 18,\n",
       " 23: 19,\n",
       " 24: 18,\n",
       " 25: 18,\n",
       " 26: 13,\n",
       " 27: 19,\n",
       " 28: 22,\n",
       " 29: 17,\n",
       " 30: 18}"
      ]
     },
     "execution_count": 70,
     "metadata": {},
     "output_type": "execute_result"
    }
   ],
   "source": [
    "september_temp={1:79, 2:81, 3:75, 4:73, 5:71,\n",
    "               6:72, 7:73, 8:75, 9:80, 10:78,\n",
    "               11:73, 12:71, 13:69, 14:71, 15:70,\n",
    "               16:74, 17:65, 18:68, 19:65, 20:64,\n",
    "               21:60, 22:64, 23:67, 24:65, 25:65,\n",
    "               26:56, 27:67, 28:71, 29:63, 30:64}\n",
    "n=1\n",
    "while n<=30:\n",
    "    temp=september_temp.pop(n)\n",
    "    september_temp.update({n:round((temp-32)*.5556)})\n",
    "    n+=1\n",
    "september_temp"
   ]
  },
  {
   "cell_type": "code",
   "execution_count": 93,
   "id": "33b25a94",
   "metadata": {},
   "outputs": [
    {
     "data": {
      "text/plain": [
       "{1: 1,\n",
       " 2: 4,\n",
       " 3: 9,\n",
       " 4: 16,\n",
       " 5: 25,\n",
       " 6: 36,\n",
       " 7: 49,\n",
       " 8: 64,\n",
       " 9: 81,\n",
       " 10: 100,\n",
       " 11: 121,\n",
       " 12: 144,\n",
       " 13: 169,\n",
       " 14: 196,\n",
       " 15: 225}"
      ]
     },
     "execution_count": 93,
     "metadata": {},
     "output_type": "execute_result"
    }
   ],
   "source": [
    "squaresdict={}\n",
    "dictKeys=[]\n",
    "dictVals=[]\n",
    "n=1\n",
    "while n<=15:\n",
    "    dictKeys.append(n)\n",
    "    dictVals.append(n**2)\n",
    "    n+=1\n",
    "squaresdict=dict(zip(dictKeys,dictVals))\n",
    "squaresdict\n"
   ]
  }
 ],
 "metadata": {
  "kernelspec": {
   "display_name": "Python 3 (ipykernel)",
   "language": "python",
   "name": "python3"
  },
  "language_info": {
   "codemirror_mode": {
    "name": "ipython",
    "version": 3
   },
   "file_extension": ".py",
   "mimetype": "text/x-python",
   "name": "python",
   "nbconvert_exporter": "python",
   "pygments_lexer": "ipython3",
   "version": "3.9.12"
  }
 },
 "nbformat": 4,
 "nbformat_minor": 5
}
